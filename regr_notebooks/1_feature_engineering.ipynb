{
 "cells": [
  {
   "cell_type": "code",
   "execution_count": 1,
   "id": "8dfca4cf",
   "metadata": {},
   "outputs": [],
   "source": [
    "import pandas as pd\n",
    "import numpy as np\n",
    "import matplotlib.pyplot as plt"
   ]
  },
  {
   "cell_type": "code",
   "execution_count": 2,
   "id": "d1b8ce5d",
   "metadata": {},
   "outputs": [],
   "source": [
    "df = pd.read_csv('fingerprints_data.csv')"
   ]
  },
  {
   "cell_type": "code",
   "execution_count": 3,
   "id": "fcf60c8a",
   "metadata": {},
   "outputs": [],
   "source": [
    "#removing NaN values, if there is any\n",
    "df = df.dropna()"
   ]
  },
  {
   "cell_type": "code",
   "execution_count": 4,
   "id": "e12c6094",
   "metadata": {},
   "outputs": [
    {
     "data": {
      "text/plain": [
       "(1650, 3241)"
      ]
     },
     "execution_count": 4,
     "metadata": {},
     "output_type": "execute_result"
    }
   ],
   "source": [
    "df.shape"
   ]
  },
  {
   "cell_type": "code",
   "execution_count": 5,
   "id": "34fc00a2",
   "metadata": {},
   "outputs": [],
   "source": [
    "fingerprint_array = df[df.drop(['Standard Type', 'Standard Value'], axis=1).columns].values"
   ]
  },
  {
   "cell_type": "code",
   "execution_count": 6,
   "id": "647f2056",
   "metadata": {},
   "outputs": [],
   "source": [
    "df_ic50 = df[df['Standard Type'] == 'IC50']\n",
    "df_ki = df[df['Standard Type'] == 'Ki']"
   ]
  },
  {
   "cell_type": "code",
   "execution_count": 7,
   "id": "e5220d29",
   "metadata": {},
   "outputs": [],
   "source": [
    "#removing feature with low variance\n",
    "from sklearn.feature_selection import VarianceThreshold"
   ]
  },
  {
   "cell_type": "code",
   "execution_count": 8,
   "id": "6b010d1f",
   "metadata": {},
   "outputs": [],
   "source": [
    "selector = VarianceThreshold(threshold=0.01)\n",
    "X_ic50 = df_ic50.drop(columns=['Standard Type', 'Standard Value', 'Smiles'])\n",
    "X_ki = df_ki.drop(columns=['Standard Type', 'Standard Value', 'Smiles'])\n",
    "\n",
    "# Define original_feature_names from the dataframe columns\n",
    "original_feature_names = X_ic50.columns.tolist()\n",
    "\n",
    "X_ic50 = selector.fit_transform(X_ic50)\n",
    "selector_indices_ic50 = selector.get_support(indices=True)\n",
    "selector_feature_names0 = np.array([original_feature_names[i] for i in selector_indices_ic50])\n",
    "\n",
    "X_ki = selector.fit_transform(X_ki)\n",
    "\n",
    "selector_indices_ki50 = selector.get_support(indices=True)\n",
    "selector_feature_names1 = np.array([original_feature_names[i] for i in selector_indices_ki50])"
   ]
  },
  {
   "cell_type": "code",
   "execution_count": 9,
   "id": "d3a5f21b",
   "metadata": {},
   "outputs": [
    {
     "name": "stdout",
     "output_type": "stream",
     "text": [
      "1792 1710\n"
     ]
    }
   ],
   "source": [
    "print(len(X_ic50[0]), len(X_ki[0]))"
   ]
  },
  {
   "cell_type": "code",
   "execution_count": 10,
   "id": "43815618",
   "metadata": {},
   "outputs": [],
   "source": [
    "#univariate feature selection, with mutual information regression\n",
    "from sklearn.feature_selection import SelectKBest, mutual_info_regression"
   ]
  },
  {
   "cell_type": "code",
   "execution_count": 11,
   "id": "8839b98d",
   "metadata": {},
   "outputs": [
    {
     "name": "stderr",
     "output_type": "stream",
     "text": [
      "c:\\Users\\SUJAL GULIA\\anaconda3\\envs\\amyloid_venv\\Lib\\site-packages\\sklearn\\feature_selection\\_univariate_selection.py:783: UserWarning: k=2000 is greater than n_features=1792. All the features will be returned.\n",
      "  warnings.warn(\n",
      "c:\\Users\\SUJAL GULIA\\anaconda3\\envs\\amyloid_venv\\Lib\\site-packages\\sklearn\\feature_selection\\_univariate_selection.py:783: UserWarning: k=2000 is greater than n_features=1710. All the features will be returned.\n",
      "  warnings.warn(\n"
     ]
    }
   ],
   "source": [
    "selector = SelectKBest(score_func=mutual_info_regression, k=2000)\n",
    "y_ic50 = df_ic50['Standard Value']\n",
    "y_ki = df_ki['Standard Value']\n",
    "X_ic50 = selector.fit_transform(X_ic50, y_ic50)\n",
    "\n",
    "selector_indices0_ic50 = selector.get_support(indices=True)\n",
    "selector_feature_names2 = [selector_feature_names0[i] for i in selector_indices0_ic50]\n",
    "\n",
    "X_ki = selector.fit_transform(X_ki, y_ki)\n",
    "\n",
    "selector_indices0_ki = selector.get_support(indices=True)\n",
    "selector_feature_names3 = [selector_feature_names1[i] for i in selector_indices0_ki]"
   ]
  },
  {
   "cell_type": "code",
   "execution_count": 12,
   "id": "15577c82",
   "metadata": {},
   "outputs": [],
   "source": [
    "from sklearn.linear_model import LassoCV\n",
    "from sklearn.preprocessing import StandardScaler\n",
    "from sklearn.pipeline import make_pipeline"
   ]
  },
  {
   "cell_type": "code",
   "execution_count": 13,
   "id": "439d8ba2",
   "metadata": {},
   "outputs": [
    {
     "name": "stderr",
     "output_type": "stream",
     "text": [
      "c:\\Users\\SUJAL GULIA\\anaconda3\\envs\\amyloid_venv\\Lib\\site-packages\\sklearn\\linear_model\\_coordinate_descent.py:695: ConvergenceWarning: Objective did not converge. You might want to increase the number of iterations, check the scale of the features or consider increasing regularisation. Duality gap: 2.429e+08, tolerance: 2.390e+08\n",
      "  model = cd_fast.enet_coordinate_descent(\n",
      "c:\\Users\\SUJAL GULIA\\anaconda3\\envs\\amyloid_venv\\Lib\\site-packages\\sklearn\\linear_model\\_coordinate_descent.py:695: ConvergenceWarning: Objective did not converge. You might want to increase the number of iterations, check the scale of the features or consider increasing regularisation. Duality gap: 2.647e+08, tolerance: 2.601e+08\n",
      "  model = cd_fast.enet_coordinate_descent(\n"
     ]
    }
   ],
   "source": [
    "pipeline_ic50 = make_pipeline(\n",
    "    StandardScaler(),  #feature scaling is required for Lasso\n",
    "    LassoCV(cv=5, random_state=42) #applying LASSO with 5 fold cross validation\n",
    ")\n",
    "\n",
    "pipeline_ic50.fit(X_ic50, y_ic50)\n",
    "\n",
    "lasso_mask_ic50 = pipeline_ic50.named_steps['lassocv'].coef_ != 0\n",
    "lasso_feature_names_ic50 = [selector_feature_names2[i] for i, keep in enumerate(lasso_mask_ic50) if keep]\n",
    "X_ic50_selected = X_ic50[:, lasso_mask_ic50]"
   ]
  },
  {
   "cell_type": "code",
   "execution_count": 14,
   "id": "0b751269",
   "metadata": {},
   "outputs": [],
   "source": [
    "pipeline_ki = make_pipeline(\n",
    "    StandardScaler(),\n",
    "    LassoCV(cv=5, random_state=42)\n",
    ")\n",
    "pipeline_ki.fit(X_ki, y_ki)\n",
    "\n",
    "lasso_mask_ki = pipeline_ki.named_steps['lassocv'].coef_ != 0\n",
    "lasso_feature_names_ki = [selector_feature_names3[i] for i, keep in enumerate(lasso_mask_ki) if keep]\n",
    "X_ki_selected = X_ki[:, lasso_mask_ki]"
   ]
  },
  {
   "cell_type": "code",
   "execution_count": 15,
   "id": "4bef6b42",
   "metadata": {},
   "outputs": [],
   "source": [
    "df_ic50 = pd.DataFrame(X_ic50_selected, columns=lasso_feature_names_ic50)\n",
    "df_ic50['Standard Value'] = y_ic50.values\n",
    "df_ic50.to_csv('final_ic50.csv', index=False)\n",
    "\n",
    "df_ki = pd.DataFrame(X_ki_selected, columns=lasso_feature_names_ki)\n",
    "df_ki['Standard Value'] = y_ki.values\n",
    "df_ki.to_csv('final_ki.csv', index=False)"
   ]
  },
  {
   "cell_type": "code",
   "execution_count": 17,
   "id": "7c977cbf",
   "metadata": {},
   "outputs": [
    {
     "name": "stdout",
     "output_type": "stream",
     "text": [
      "25 37\n"
     ]
    }
   ],
   "source": [
    "print(len(X_ic50_selected[0]), len(X_ki_selected[0]))"
   ]
  }
 ],
 "metadata": {
  "kernelspec": {
   "display_name": "amyloid_venv",
   "language": "python",
   "name": "python3"
  },
  "language_info": {
   "codemirror_mode": {
    "name": "ipython",
    "version": 3
   },
   "file_extension": ".py",
   "mimetype": "text/x-python",
   "name": "python",
   "nbconvert_exporter": "python",
   "pygments_lexer": "ipython3",
   "version": "3.12.9"
  }
 },
 "nbformat": 4,
 "nbformat_minor": 5
}
