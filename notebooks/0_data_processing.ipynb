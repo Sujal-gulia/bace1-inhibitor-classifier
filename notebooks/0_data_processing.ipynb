{
 "cells": [
  {
   "cell_type": "code",
   "execution_count": 21,
   "metadata": {},
   "outputs": [],
   "source": [
    "import pandas as pd\n",
    "import numpy as np\n",
    "import matplotlib.pyplot as plt"
   ]
  },
  {
   "cell_type": "code",
   "execution_count": 22,
   "metadata": {},
   "outputs": [
    {
     "name": "stdout",
     "output_type": "stream",
     "text": [
      "                                              Smiles Standard Type  \\\n",
      "0  CC(C)[C@H](NC(=O)[C@@H](N)CCC(=O)O)C(=O)N[C@@H...          IC50   \n",
      "1  CC(C)C[C@H](NC(=O)C(O)c1ccccc1Br)[C@@H](O)CC(=...          IC50   \n",
      "2  CC(C)CC(NC(=O)C(O)c1cccc2ccccc12)[C@@H](O)CC(=...          IC50   \n",
      "3  CC(C)C[C@H](NC(=O)[C@@H](NC(=O)[C@@H](N)CNC(=O...          IC50   \n",
      "4  CN1C(=O)C(c2cccc(-c3cccnc3F)c2)(c2cnn(CCF)c2)N...          IC50   \n",
      "\n",
      "   Standard Value Standard Units  \n",
      "0            49.0             nM  \n",
      "1         40000.0             nM  \n",
      "2          4000.0             nM  \n",
      "3             4.8             nM  \n",
      "4            50.0             nM  \n",
      "                                              Smiles Standard Type  \\\n",
      "0  CC(C)C[C@H](NC(=O)[C@@H](NC(=O)[C@@H](N)CCC(=O...    Inhibition   \n",
      "1  CC(C)C[C@H](NC(=O)[C@@H](NC(=O)[C@@H](N)CNC(=O...    Inhibition   \n",
      "2  CC(C)C[C@H](NC(=O)[C@@H](NC(=O)[C@@H](N)CNC(=O...    Inhibition   \n",
      "3  CC(C)C[C@H](NC(=O)[C@@H](NC(=O)[C@@H](N)CNC(=O...    Inhibition   \n",
      "4  CC(C)C[C@H](NC(=O)[C@@H](NC(=O)[C@@H](N)CNC(=O...    Inhibition   \n",
      "\n",
      "   Standard Value Standard Units  \n",
      "0            94.4              %  \n",
      "1           100.0              %  \n",
      "2            99.1              %  \n",
      "3            99.8              %  \n",
      "4            86.0              %  \n"
     ]
    }
   ],
   "source": [
    "df0 = pd.read_csv(\"AB IC50.csv\", sep=\";\", usecols=[\"Smiles\", \"Standard Type\", \"Standard Value\", \"Standard Units\"])\n",
    "df1 = pd.read_csv(\"AB inhibition.csv\", sep=\";\", usecols=[\"Smiles\", \"Standard Type\", \"Standard Value\", \"Standard Units\"])\n",
    "\n",
    "print(df0.head())\n",
    "print(df1.head())\n"
   ]
  },
  {
   "cell_type": "code",
   "execution_count": 23,
   "metadata": {},
   "outputs": [],
   "source": [
    "df = pd.concat([df0, df1], ignore_index=True)\n",
    "df.to_csv(\"combined_data.csv\", index=False)\n"
   ]
  },
  {
   "cell_type": "code",
   "execution_count": 24,
   "metadata": {},
   "outputs": [
    {
     "data": {
      "text/plain": [
       "Smiles              0\n",
       "Standard Type       0\n",
       "Standard Value    494\n",
       "Standard Units    154\n",
       "dtype: int64"
      ]
     },
     "execution_count": 24,
     "metadata": {},
     "output_type": "execute_result"
    }
   ],
   "source": [
    "df.isnull().sum()"
   ]
  },
  {
   "cell_type": "code",
   "execution_count": 25,
   "metadata": {},
   "outputs": [],
   "source": [
    "df.replace(\"\", np.nan, inplace=True)\n",
    "df.dropna(inplace=True)"
   ]
  },
  {
   "cell_type": "code",
   "execution_count": 26,
   "metadata": {},
   "outputs": [
    {
     "name": "stdout",
     "output_type": "stream",
     "text": [
      "<class 'pandas.core.frame.DataFrame'>\n",
      "Index: 12662 entries, 0 to 13155\n",
      "Data columns (total 4 columns):\n",
      " #   Column          Non-Null Count  Dtype  \n",
      "---  ------          --------------  -----  \n",
      " 0   Smiles          12662 non-null  object \n",
      " 1   Standard Type   12662 non-null  object \n",
      " 2   Standard Value  12662 non-null  float64\n",
      " 3   Standard Units  12662 non-null  object \n",
      "dtypes: float64(1), object(3)\n",
      "memory usage: 494.6+ KB\n"
     ]
    }
   ],
   "source": [
    "df.info()"
   ]
  },
  {
   "cell_type": "code",
   "execution_count": 27,
   "metadata": {},
   "outputs": [],
   "source": [
    "def label_activity(row):\n",
    "    if row['Standard Type'] == 'IC50':\n",
    "        return 1 if row['Standard Value'] <= 1000 else 0\n",
    "    elif row['Standard Type'] == 'Inhibition':\n",
    "        return 1 if row['Standard Value'] >= 50 else 0\n",
    "    else:\n",
    "        return None  # Skip unknown types\n",
    "\n",
    "df['Activity Label'] = df.apply(label_activity, axis=1)\n",
    "\n",
    "df.to_csv(\"combined_data.csv\", index=False)\n"
   ]
  },
  {
   "cell_type": "code",
   "execution_count": 28,
   "metadata": {},
   "outputs": [
    {
     "name": "stdout",
     "output_type": "stream",
     "text": [
      "                                              Smiles Standard Type  \\\n",
      "0  CC(C)[C@H](NC(=O)[C@@H](N)CCC(=O)O)C(=O)N[C@@H...          IC50   \n",
      "1  CC(C)C[C@H](NC(=O)C(O)c1ccccc1Br)[C@@H](O)CC(=...          IC50   \n",
      "2  CC(C)CC(NC(=O)C(O)c1cccc2ccccc12)[C@@H](O)CC(=...          IC50   \n",
      "3  CC(C)C[C@H](NC(=O)[C@@H](NC(=O)[C@@H](N)CNC(=O...          IC50   \n",
      "4  CN1C(=O)C(c2cccc(-c3cccnc3F)c2)(c2cnn(CCF)c2)N...          IC50   \n",
      "\n",
      "   Standard Value Standard Units  Activity Label  \n",
      "0            49.0             nM               1  \n",
      "1         40000.0             nM               0  \n",
      "2          4000.0             nM               0  \n",
      "3             4.8             nM               1  \n",
      "4            50.0             nM               1  \n"
     ]
    }
   ],
   "source": [
    "print(df.head())"
   ]
  },
  {
   "cell_type": "code",
   "execution_count": 29,
   "metadata": {},
   "outputs": [
    {
     "name": "stdout",
     "output_type": "stream",
     "text": [
      "<class 'pandas.core.frame.DataFrame'>\n",
      "Index: 12662 entries, 0 to 13155\n",
      "Data columns (total 5 columns):\n",
      " #   Column          Non-Null Count  Dtype  \n",
      "---  ------          --------------  -----  \n",
      " 0   Smiles          12662 non-null  object \n",
      " 1   Standard Type   12662 non-null  object \n",
      " 2   Standard Value  12662 non-null  float64\n",
      " 3   Standard Units  12662 non-null  object \n",
      " 4   Activity Label  12662 non-null  int64  \n",
      "dtypes: float64(1), int64(1), object(3)\n",
      "memory usage: 593.5+ KB\n"
     ]
    }
   ],
   "source": [
    "df.info()"
   ]
  }
 ],
 "metadata": {
  "kernelspec": {
   "display_name": "amyloid_venv",
   "language": "python",
   "name": "python3"
  },
  "language_info": {
   "codemirror_mode": {
    "name": "ipython",
    "version": 3
   },
   "file_extension": ".py",
   "mimetype": "text/x-python",
   "name": "python",
   "nbconvert_exporter": "python",
   "pygments_lexer": "ipython3",
   "version": "3.12.9"
  }
 },
 "nbformat": 4,
 "nbformat_minor": 2
}
